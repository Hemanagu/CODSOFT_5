{
 "cells": [
  {
   "cell_type": "code",
   "execution_count": 1,
   "id": "ee157e68-b908-410f-bc94-f3f4cb262feb",
   "metadata": {},
   "outputs": [
    {
     "name": "stdout",
     "output_type": "stream",
     "text": [
      "No existing contact book found.\n",
      "\n",
      "Contact Book Menu:\n",
      "1. Add Contact\n",
      "2. View Contacts\n",
      "3. Search Contact\n",
      "4. Delete Contact\n",
      "5. Update Contact\n",
      "6. Save Contacts\n",
      "7. Exit\n"
     ]
    },
    {
     "name": "stdin",
     "output_type": "stream",
     "text": [
      "Enter your choice (1/2/3/4/5/6/7):  1\n",
      "Enter contact name:  xyz\n",
      "Enter contact number:  234567899\n",
      "Enter contact email:  assfgh\n",
      "Enter contact address:  fghjk\n"
     ]
    },
    {
     "name": "stdout",
     "output_type": "stream",
     "text": [
      "Contact added successfully.\n",
      "\n",
      "Contact Book Menu:\n",
      "1. Add Contact\n",
      "2. View Contacts\n",
      "3. Search Contact\n",
      "4. Delete Contact\n",
      "5. Update Contact\n",
      "6. Save Contacts\n",
      "7. Exit\n"
     ]
    },
    {
     "name": "stdin",
     "output_type": "stream",
     "text": [
      "Enter your choice (1/2/3/4/5/6/7):  2\n"
     ]
    },
    {
     "name": "stdout",
     "output_type": "stream",
     "text": [
      "\n",
      "Contacts:\n",
      "Name: xyz\n",
      "Number: 234567899\n",
      "Email: assfgh\n",
      "Address: fghjk\n",
      "\n",
      "\n",
      "Contact Book Menu:\n",
      "1. Add Contact\n",
      "2. View Contacts\n",
      "3. Search Contact\n",
      "4. Delete Contact\n",
      "5. Update Contact\n",
      "6. Save Contacts\n",
      "7. Exit\n"
     ]
    },
    {
     "name": "stdin",
     "output_type": "stream",
     "text": [
      "Enter your choice (1/2/3/4/5/6/7):  7\n"
     ]
    },
    {
     "name": "stdout",
     "output_type": "stream",
     "text": [
      "Exiting the Contact Book application.\n"
     ]
    }
   ],
   "source": [
    "import os\n",
    "import json\n",
    "\n",
    "def add_contact(contact_book):\n",
    "    name = input(\"Enter contact name: \")\n",
    "    number = input(\"Enter contact number: \")\n",
    "    email = input(\"Enter contact email: \")\n",
    "    address = input(\"Enter contact address: \")\n",
    "    contact_book[name] = {\"number\": number, \"email\": email, \"address\": address}\n",
    "    print(\"Contact added successfully.\")\n",
    "\n",
    "def view_contacts(contact_book):\n",
    "    if contact_book:\n",
    "        print(\"\\nContacts:\")\n",
    "        for name, details in contact_book.items():\n",
    "            print(f\"Name: {name}\")\n",
    "            print(f\"Number: {details['number']}\")\n",
    "            print(f\"Email: {details['email']}\")\n",
    "            print(f\"Address: {details['address']}\")\n",
    "            print()\n",
    "    else:\n",
    "        print(\"Contact book is empty.\")\n",
    "\n",
    "def search_contact(contact_book):\n",
    "    name = input(\"Enter contact name to search: \")\n",
    "    if name in contact_book:\n",
    "        details = contact_book[name]\n",
    "        print(f\"Name: {name}\")\n",
    "        print(f\"Number: {details['number']}\")\n",
    "        print(f\"Email: {details['email']}\")\n",
    "        print(f\"Address: {details['address']}\")\n",
    "    else:\n",
    "        print(\"Contact not found.\")\n",
    "\n",
    "def delete_contact(contact_book):\n",
    "    name = input(\"Enter contact name to delete: \")\n",
    "    if name in contact_book:\n",
    "        del contact_book[name]\n",
    "        print(\"Contact deleted successfully.\")\n",
    "    else:\n",
    "        print(\"Contact not found.\")\n",
    "\n",
    "def update_contact(contact_book):\n",
    "    name = input(\"Enter contact name to update: \")\n",
    "    if name in contact_book:\n",
    "        print(\"Enter new details (leave blank to keep the same):\")\n",
    "        new_number = input(f\"Enter new number for {name}: \") or contact_book[name]['number']\n",
    "        new_email = input(f\"Enter new email for {name}: \") or contact_book[name]['email']\n",
    "        new_address = input(f\"Enter new address for {name}: \") or contact_book[name]['address']\n",
    "        contact_book[name] = {\"number\": new_number, \"email\": new_email, \"address\": new_address}\n",
    "        print(\"Contact updated successfully.\")\n",
    "    else:\n",
    "        print(\"Contact not found.\")\n",
    "\n",
    "def save_contacts(contact_book, file_name):\n",
    "    with open(file_name, 'w') as file:\n",
    "        json.dump(contact_book, file)\n",
    "    print(\"Contacts saved successfully.\")\n",
    "\n",
    "def load_contacts(file_name):\n",
    "    if os.path.exists(file_name):\n",
    "        with open(file_name, 'r') as file:\n",
    "            return json.load(file)\n",
    "    else:\n",
    "        print(\"No existing contact book found.\")\n",
    "        return {}\n",
    "\n",
    "def main():\n",
    "    file_name = \"contact_book.json\"\n",
    "    contact_book = load_contacts(file_name)\n",
    "\n",
    "    while True:\n",
    "        print(\"\\nContact Book Menu:\")\n",
    "        print(\"1. Add Contact\")\n",
    "        print(\"2. View Contacts\")\n",
    "        print(\"3. Search Contact\")\n",
    "        print(\"4. Delete Contact\")\n",
    "        print(\"5. Update Contact\")\n",
    "        print(\"6. Save Contacts\")\n",
    "        print(\"7. Exit\")\n",
    "\n",
    "        choice = input(\"Enter your choice (1/2/3/4/5/6/7): \")\n",
    "\n",
    "        if choice == '1':\n",
    "            add_contact(contact_book)\n",
    "        elif choice == '2':\n",
    "            view_contacts(contact_book)\n",
    "        elif choice == '3':\n",
    "            search_contact(contact_book)\n",
    "        elif choice == '4':\n",
    "            delete_contact(contact_book)\n",
    "        elif choice == '5':\n",
    "            update_contact(contact_book)\n",
    "        elif choice == '6':\n",
    "            save_contacts(contact_book, file_name)\n",
    "        elif choice == '7':\n",
    "            print(\"Exiting the Contact Book application.\")\n",
    "            break\n",
    "        else:\n",
    "            print(\"Invalid choice. Please enter a number between 1 and 7.\")\n",
    "\n",
    "if __name__ == \"__main__\":\n",
    "    main()\n"
   ]
  },
  {
   "cell_type": "code",
   "execution_count": null,
   "id": "3751d9c4-b91a-41ef-8937-f24783fbe2f8",
   "metadata": {},
   "outputs": [],
   "source": []
  }
 ],
 "metadata": {
  "kernelspec": {
   "display_name": "Python 3 (ipykernel)",
   "language": "python",
   "name": "python3"
  },
  "language_info": {
   "codemirror_mode": {
    "name": "ipython",
    "version": 3
   },
   "file_extension": ".py",
   "mimetype": "text/x-python",
   "name": "python",
   "nbconvert_exporter": "python",
   "pygments_lexer": "ipython3",
   "version": "3.11.7"
  }
 },
 "nbformat": 4,
 "nbformat_minor": 5
}
